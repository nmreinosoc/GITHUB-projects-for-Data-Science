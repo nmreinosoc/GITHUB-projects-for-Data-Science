{
 "cells": [
  {
   "cell_type": "code",
   "execution_count": 1,
   "metadata": {},
   "outputs": [],
   "source": [
    "import numpy as np\n",
    "import pandas as pd\n",
    "import matplotlib.pyplot as plt\n",
    "import seaborn as sns\n",
    "plt.style.use(\"seaborn\")"
   ]
  },
  {
   "cell_type": "code",
   "execution_count": 2,
   "metadata": {},
   "outputs": [
    {
     "data": {
      "text/html": [
       "<div>\n",
       "<style scoped>\n",
       "    .dataframe tbody tr th:only-of-type {\n",
       "        vertical-align: middle;\n",
       "    }\n",
       "\n",
       "    .dataframe tbody tr th {\n",
       "        vertical-align: top;\n",
       "    }\n",
       "\n",
       "    .dataframe thead th {\n",
       "        text-align: right;\n",
       "    }\n",
       "</style>\n",
       "<table border=\"1\" class=\"dataframe\">\n",
       "  <thead>\n",
       "    <tr style=\"text-align: right;\">\n",
       "      <th></th>\n",
       "      <th>Kyphosis</th>\n",
       "      <th>Age</th>\n",
       "      <th>Number</th>\n",
       "      <th>Start</th>\n",
       "    </tr>\n",
       "  </thead>\n",
       "  <tbody>\n",
       "    <tr>\n",
       "      <th>0</th>\n",
       "      <td>absent</td>\n",
       "      <td>71</td>\n",
       "      <td>3</td>\n",
       "      <td>5</td>\n",
       "    </tr>\n",
       "    <tr>\n",
       "      <th>1</th>\n",
       "      <td>absent</td>\n",
       "      <td>158</td>\n",
       "      <td>3</td>\n",
       "      <td>14</td>\n",
       "    </tr>\n",
       "    <tr>\n",
       "      <th>2</th>\n",
       "      <td>present</td>\n",
       "      <td>128</td>\n",
       "      <td>4</td>\n",
       "      <td>5</td>\n",
       "    </tr>\n",
       "    <tr>\n",
       "      <th>3</th>\n",
       "      <td>absent</td>\n",
       "      <td>2</td>\n",
       "      <td>5</td>\n",
       "      <td>1</td>\n",
       "    </tr>\n",
       "    <tr>\n",
       "      <th>4</th>\n",
       "      <td>absent</td>\n",
       "      <td>1</td>\n",
       "      <td>4</td>\n",
       "      <td>15</td>\n",
       "    </tr>\n",
       "    <tr>\n",
       "      <th>...</th>\n",
       "      <td>...</td>\n",
       "      <td>...</td>\n",
       "      <td>...</td>\n",
       "      <td>...</td>\n",
       "    </tr>\n",
       "    <tr>\n",
       "      <th>76</th>\n",
       "      <td>present</td>\n",
       "      <td>157</td>\n",
       "      <td>3</td>\n",
       "      <td>13</td>\n",
       "    </tr>\n",
       "    <tr>\n",
       "      <th>77</th>\n",
       "      <td>absent</td>\n",
       "      <td>26</td>\n",
       "      <td>7</td>\n",
       "      <td>13</td>\n",
       "    </tr>\n",
       "    <tr>\n",
       "      <th>78</th>\n",
       "      <td>absent</td>\n",
       "      <td>120</td>\n",
       "      <td>2</td>\n",
       "      <td>13</td>\n",
       "    </tr>\n",
       "    <tr>\n",
       "      <th>79</th>\n",
       "      <td>present</td>\n",
       "      <td>42</td>\n",
       "      <td>7</td>\n",
       "      <td>6</td>\n",
       "    </tr>\n",
       "    <tr>\n",
       "      <th>80</th>\n",
       "      <td>absent</td>\n",
       "      <td>36</td>\n",
       "      <td>4</td>\n",
       "      <td>13</td>\n",
       "    </tr>\n",
       "  </tbody>\n",
       "</table>\n",
       "<p>81 rows × 4 columns</p>\n",
       "</div>"
      ],
      "text/plain": [
       "   Kyphosis  Age  Number  Start\n",
       "0    absent   71       3      5\n",
       "1    absent  158       3     14\n",
       "2   present  128       4      5\n",
       "3    absent    2       5      1\n",
       "4    absent    1       4     15\n",
       "..      ...  ...     ...    ...\n",
       "76  present  157       3     13\n",
       "77   absent   26       7     13\n",
       "78   absent  120       2     13\n",
       "79  present   42       7      6\n",
       "80   absent   36       4     13\n",
       "\n",
       "[81 rows x 4 columns]"
      ]
     },
     "execution_count": 2,
     "metadata": {},
     "output_type": "execute_result"
    }
   ],
   "source": [
    "df = pd.read_csv(\"kyphosis.csv\")\n",
    "df"
   ]
  },
  {
   "cell_type": "code",
   "execution_count": 4,
   "metadata": {},
   "outputs": [
    {
     "data": {
      "text/html": [
       "<div>\n",
       "<style scoped>\n",
       "    .dataframe tbody tr th:only-of-type {\n",
       "        vertical-align: middle;\n",
       "    }\n",
       "\n",
       "    .dataframe tbody tr th {\n",
       "        vertical-align: top;\n",
       "    }\n",
       "\n",
       "    .dataframe thead th {\n",
       "        text-align: right;\n",
       "    }\n",
       "</style>\n",
       "<table border=\"1\" class=\"dataframe\">\n",
       "  <thead>\n",
       "    <tr style=\"text-align: right;\">\n",
       "      <th></th>\n",
       "      <th>Kyphosis</th>\n",
       "      <th>Age</th>\n",
       "      <th>Number</th>\n",
       "      <th>Start</th>\n",
       "    </tr>\n",
       "  </thead>\n",
       "  <tbody>\n",
       "    <tr>\n",
       "      <th>count</th>\n",
       "      <td>81</td>\n",
       "      <td>81.000000</td>\n",
       "      <td>81.000000</td>\n",
       "      <td>81.000000</td>\n",
       "    </tr>\n",
       "    <tr>\n",
       "      <th>unique</th>\n",
       "      <td>2</td>\n",
       "      <td>NaN</td>\n",
       "      <td>NaN</td>\n",
       "      <td>NaN</td>\n",
       "    </tr>\n",
       "    <tr>\n",
       "      <th>top</th>\n",
       "      <td>absent</td>\n",
       "      <td>NaN</td>\n",
       "      <td>NaN</td>\n",
       "      <td>NaN</td>\n",
       "    </tr>\n",
       "    <tr>\n",
       "      <th>freq</th>\n",
       "      <td>64</td>\n",
       "      <td>NaN</td>\n",
       "      <td>NaN</td>\n",
       "      <td>NaN</td>\n",
       "    </tr>\n",
       "    <tr>\n",
       "      <th>mean</th>\n",
       "      <td>NaN</td>\n",
       "      <td>83.654321</td>\n",
       "      <td>4.049383</td>\n",
       "      <td>11.493827</td>\n",
       "    </tr>\n",
       "    <tr>\n",
       "      <th>std</th>\n",
       "      <td>NaN</td>\n",
       "      <td>58.104251</td>\n",
       "      <td>1.619423</td>\n",
       "      <td>4.883962</td>\n",
       "    </tr>\n",
       "    <tr>\n",
       "      <th>min</th>\n",
       "      <td>NaN</td>\n",
       "      <td>1.000000</td>\n",
       "      <td>2.000000</td>\n",
       "      <td>1.000000</td>\n",
       "    </tr>\n",
       "    <tr>\n",
       "      <th>25%</th>\n",
       "      <td>NaN</td>\n",
       "      <td>26.000000</td>\n",
       "      <td>3.000000</td>\n",
       "      <td>9.000000</td>\n",
       "    </tr>\n",
       "    <tr>\n",
       "      <th>50%</th>\n",
       "      <td>NaN</td>\n",
       "      <td>87.000000</td>\n",
       "      <td>4.000000</td>\n",
       "      <td>13.000000</td>\n",
       "    </tr>\n",
       "    <tr>\n",
       "      <th>75%</th>\n",
       "      <td>NaN</td>\n",
       "      <td>130.000000</td>\n",
       "      <td>5.000000</td>\n",
       "      <td>16.000000</td>\n",
       "    </tr>\n",
       "    <tr>\n",
       "      <th>max</th>\n",
       "      <td>NaN</td>\n",
       "      <td>206.000000</td>\n",
       "      <td>10.000000</td>\n",
       "      <td>18.000000</td>\n",
       "    </tr>\n",
       "  </tbody>\n",
       "</table>\n",
       "</div>"
      ],
      "text/plain": [
       "       Kyphosis         Age     Number      Start\n",
       "count        81   81.000000  81.000000  81.000000\n",
       "unique        2         NaN        NaN        NaN\n",
       "top      absent         NaN        NaN        NaN\n",
       "freq         64         NaN        NaN        NaN\n",
       "mean        NaN   83.654321   4.049383  11.493827\n",
       "std         NaN   58.104251   1.619423   4.883962\n",
       "min         NaN    1.000000   2.000000   1.000000\n",
       "25%         NaN   26.000000   3.000000   9.000000\n",
       "50%         NaN   87.000000   4.000000  13.000000\n",
       "75%         NaN  130.000000   5.000000  16.000000\n",
       "max         NaN  206.000000  10.000000  18.000000"
      ]
     },
     "execution_count": 4,
     "metadata": {},
     "output_type": "execute_result"
    }
   ],
   "source": [
    "df.describe(include=\"all\")"
   ]
  },
  {
   "cell_type": "code",
   "execution_count": 5,
   "metadata": {},
   "outputs": [
    {
     "name": "stdout",
     "output_type": "stream",
     "text": [
      "<class 'pandas.core.frame.DataFrame'>\n",
      "RangeIndex: 81 entries, 0 to 80\n",
      "Data columns (total 4 columns):\n",
      " #   Column    Non-Null Count  Dtype \n",
      "---  ------    --------------  ----- \n",
      " 0   Kyphosis  81 non-null     object\n",
      " 1   Age       81 non-null     int64 \n",
      " 2   Number    81 non-null     int64 \n",
      " 3   Start     81 non-null     int64 \n",
      "dtypes: int64(3), object(1)\n",
      "memory usage: 2.7+ KB\n"
     ]
    }
   ],
   "source": [
    "df.info()"
   ]
  },
  {
   "cell_type": "code",
   "execution_count": 8,
   "metadata": {},
   "outputs": [
    {
     "data": {
      "text/plain": [
       "<seaborn.axisgrid.PairGrid at 0x2a406b0c8c8>"
      ]
     },
     "execution_count": 8,
     "metadata": {},
     "output_type": "execute_result"
    },
    {
     "data": {
      "image/png": "[encoded data removed]",
      "text/plain": [
       "<Figure size 609.5x540 with 12 Axes>"
      ]
     },
     "metadata": {},
     "output_type": "display_data"
    }
   ],
   "source": [
    "sns.pairplot(df,hue=\"Kyphosis\")"
   ]
  },
  {
   "cell_type": "code",
   "execution_count": 9,
   "metadata": {},
   "outputs": [],
   "source": [
    "from sklearn.model_selection import train_test_split"
   ]
  },
  {
   "cell_type": "code",
   "execution_count": 11,
   "metadata": {},
   "outputs": [
    {
     "data": {
      "text/html": [
       "<div>\n",
       "<style scoped>\n",
       "    .dataframe tbody tr th:only-of-type {\n",
       "        vertical-align: middle;\n",
       "    }\n",
       "\n",
       "    .dataframe tbody tr th {\n",
       "        vertical-align: top;\n",
       "    }\n",
       "\n",
       "    .dataframe thead th {\n",
       "        text-align: right;\n",
       "    }\n",
       "</style>\n",
       "<table border=\"1\" class=\"dataframe\">\n",
       "  <thead>\n",
       "    <tr style=\"text-align: right;\">\n",
       "      <th></th>\n",
       "      <th>Age</th>\n",
       "      <th>Number</th>\n",
       "      <th>Start</th>\n",
       "    </tr>\n",
       "  </thead>\n",
       "  <tbody>\n",
       "    <tr>\n",
       "      <th>0</th>\n",
       "      <td>71</td>\n",
       "      <td>3</td>\n",
       "      <td>5</td>\n",
       "    </tr>\n",
       "    <tr>\n",
       "      <th>1</th>\n",
       "      <td>158</td>\n",
       "      <td>3</td>\n",
       "      <td>14</td>\n",
       "    </tr>\n",
       "    <tr>\n",
       "      <th>2</th>\n",
       "      <td>128</td>\n",
       "      <td>4</td>\n",
       "      <td>5</td>\n",
       "    </tr>\n",
       "    <tr>\n",
       "      <th>3</th>\n",
       "      <td>2</td>\n",
       "      <td>5</td>\n",
       "      <td>1</td>\n",
       "    </tr>\n",
       "    <tr>\n",
       "      <th>4</th>\n",
       "      <td>1</td>\n",
       "      <td>4</td>\n",
       "      <td>15</td>\n",
       "    </tr>\n",
       "    <tr>\n",
       "      <th>...</th>\n",
       "      <td>...</td>\n",
       "      <td>...</td>\n",
       "      <td>...</td>\n",
       "    </tr>\n",
       "    <tr>\n",
       "      <th>76</th>\n",
       "      <td>157</td>\n",
       "      <td>3</td>\n",
       "      <td>13</td>\n",
       "    </tr>\n",
       "    <tr>\n",
       "      <th>77</th>\n",
       "      <td>26</td>\n",
       "      <td>7</td>\n",
       "      <td>13</td>\n",
       "    </tr>\n",
       "    <tr>\n",
       "      <th>78</th>\n",
       "      <td>120</td>\n",
       "      <td>2</td>\n",
       "      <td>13</td>\n",
       "    </tr>\n",
       "    <tr>\n",
       "      <th>79</th>\n",
       "      <td>42</td>\n",
       "      <td>7</td>\n",
       "      <td>6</td>\n",
       "    </tr>\n",
       "    <tr>\n",
       "      <th>80</th>\n",
       "      <td>36</td>\n",
       "      <td>4</td>\n",
       "      <td>13</td>\n",
       "    </tr>\n",
       "  </tbody>\n",
       "</table>\n",
       "<p>81 rows × 3 columns</p>\n",
       "</div>"
      ],
      "text/plain": [
       "    Age  Number  Start\n",
       "0    71       3      5\n",
       "1   158       3     14\n",
       "2   128       4      5\n",
       "3     2       5      1\n",
       "4     1       4     15\n",
       "..  ...     ...    ...\n",
       "76  157       3     13\n",
       "77   26       7     13\n",
       "78  120       2     13\n",
       "79   42       7      6\n",
       "80   36       4     13\n",
       "\n",
       "[81 rows x 3 columns]"
      ]
     },
     "execution_count": 11,
     "metadata": {},
     "output_type": "execute_result"
    }
   ],
   "source": [
    "X = df.drop(\"Kyphosis\",axis=1)\n",
    "X"
   ]
  },
  {
   "cell_type": "code",
   "execution_count": 12,
   "metadata": {},
   "outputs": [
    {
     "data": {
      "text/plain": [
       "0      absent\n",
       "1      absent\n",
       "2     present\n",
       "3      absent\n",
       "4      absent\n",
       "       ...   \n",
       "76    present\n",
       "77     absent\n",
       "78     absent\n",
       "79    present\n",
       "80     absent\n",
       "Name: Kyphosis, Length: 81, dtype: object"
      ]
     },
     "execution_count": 12,
     "metadata": {},
     "output_type": "execute_result"
    }
   ],
   "source": [
    "y=df[\"Kyphosis\"]\n",
    "y"
   ]
  },
  {
   "cell_type": "code",
   "execution_count": 14,
   "metadata": {},
   "outputs": [],
   "source": [
    "X_train, X_test, y_train, y_test = train_test_split(X, y, test_size=0.3, random_state=42)"
   ]
  },
  {
   "cell_type": "code",
   "execution_count": 15,
   "metadata": {},
   "outputs": [],
   "source": [
    "from sklearn.tree import DecisionTreeClassifier"
   ]
  },
  {
   "cell_type": "code",
   "execution_count": 16,
   "metadata": {},
   "outputs": [],
   "source": [
    "dtree = DecisionTreeClassifier()"
   ]
  },
  {
   "cell_type": "code",
   "execution_count": 17,
   "metadata": {},
   "outputs": [
    {
     "data": {
      "text/plain": [
       "DecisionTreeClassifier()"
      ]
     },
     "execution_count": 17,
     "metadata": {},
     "output_type": "execute_result"
    }
   ],
   "source": [
    "dtree.fit(X_train,y_train)"
   ]
  },
  {
   "cell_type": "code",
   "execution_count": 18,
   "metadata": {},
   "outputs": [],
   "source": [
    "predictions = dtree.predict(X_test)"
   ]
  },
  {
   "cell_type": "code",
   "execution_count": 19,
   "metadata": {},
   "outputs": [
    {
     "data": {
      "text/plain": [
       "array(['absent', 'absent', 'absent', 'absent', 'absent', 'absent',\n",
       "       'absent', 'absent', 'absent', 'present', 'absent', 'absent',\n",
       "       'present', 'present', 'absent', 'absent', 'absent', 'present',\n",
       "       'absent', 'absent', 'absent', 'absent', 'absent', 'absent',\n",
       "       'absent'], dtype=object)"
      ]
     },
     "execution_count": 19,
     "metadata": {},
     "output_type": "execute_result"
    }
   ],
   "source": [
    "predictions"
   ]
  },
  {
   "cell_type": "code",
   "execution_count": 20,
   "metadata": {},
   "outputs": [],
   "source": [
    "from sklearn.metrics import classification_report,confusion_matrix"
   ]
  },
  {
   "cell_type": "code",
   "execution_count": 21,
   "metadata": {},
   "outputs": [
    {
     "name": "stdout",
     "output_type": "stream",
     "text": [
      "[[16  3]\n",
      " [ 5  1]]\n"
     ]
    }
   ],
   "source": [
    "print(confusion_matrix(y_test,predictions))"
   ]
  },
  {
   "cell_type": "code",
   "execution_count": 22,
   "metadata": {},
   "outputs": [
    {
     "name": "stdout",
     "output_type": "stream",
     "text": [
      "              precision    recall  f1-score   support\n",
      "\n",
      "      absent       0.76      0.84      0.80        19\n",
      "     present       0.25      0.17      0.20         6\n",
      "\n",
      "    accuracy                           0.68        25\n",
      "   macro avg       0.51      0.50      0.50        25\n",
      "weighted avg       0.64      0.68      0.66        25\n",
      "\n"
     ]
    }
   ],
   "source": [
    "print(classification_report(y_test,predictions))"
   ]
  },
  {
   "cell_type": "code",
   "execution_count": 23,
   "metadata": {},
   "outputs": [],
   "source": [
    "from sklearn.ensemble import RandomForestClassifier"
   ]
  },
  {
   "cell_type": "code",
   "execution_count": 34,
   "metadata": {},
   "outputs": [],
   "source": [
    "rfc = RandomForestClassifier(n_estimators=200)"
   ]
  },
  {
   "cell_type": "code",
   "execution_count": 35,
   "metadata": {},
   "outputs": [
    {
     "data": {
      "text/plain": [
       "RandomForestClassifier(n_estimators=200)"
      ]
     },
     "execution_count": 35,
     "metadata": {},
     "output_type": "execute_result"
    }
   ],
   "source": [
    "rfc.fit(X_train,y_train)"
   ]
  },
  {
   "cell_type": "code",
   "execution_count": 36,
   "metadata": {},
   "outputs": [],
   "source": [
    "rfc_predictions = rfc.predict(X_test)"
   ]
  },
  {
   "cell_type": "code",
   "execution_count": 37,
   "metadata": {},
   "outputs": [
    {
     "name": "stdout",
     "output_type": "stream",
     "text": [
      "              precision    recall  f1-score   support\n",
      "\n",
      "      absent       0.79      1.00      0.88        19\n",
      "     present       1.00      0.17      0.29         6\n",
      "\n",
      "    accuracy                           0.80        25\n",
      "   macro avg       0.90      0.58      0.58        25\n",
      "weighted avg       0.84      0.80      0.74        25\n",
      "\n"
     ]
    }
   ],
   "source": [
    "print(classification_report(y_test,rfc_predictions))"
   ]
  },
  {
   "cell_type": "code",
   "execution_count": 38,
   "metadata": {},
   "outputs": [
    {
     "name": "stdout",
     "output_type": "stream",
     "text": [
      "[[19  0]\n",
      " [ 5  1]]\n"
     ]
    }
   ],
   "source": [
    "print(confusion_matrix(y_test,rfc_predictions))"
   ]
  },
  {
   "cell_type": "code",
   "execution_count": 57,
   "metadata": {},
   "outputs": [],
   "source": [
    "error_rate=[]\n",
    "initial_estimators=300\n",
    "for i in range(1,initial_estimators):\n",
    "    #X_train, X_test, y_train, y_test = train_test_split(X, y,test_size=0.3)\n",
    "    rfc_i = RandomForestClassifier(n_estimators=i)\n",
    "    rfc_i.fit(X_train,y_train)\n",
    "    predictor_i = rfc_i.predict(X_test)\n",
    "    error_rate.append(np.mean(predictor_i != y_test))\n",
    "\n"
   ]
  },
  {
   "cell_type": "code",
   "execution_count": 58,
   "metadata": {},
   "outputs": [
    {
     "data": {
      "text/plain": [
       "[0.2,\n",
       " 0.12,\n",
       " 0.2,\n",
       " 0.12,\n",
       " 0.12,\n",
       " 0.2,\n",
       " 0.16,\n",
       " 0.12,\n",
       " 0.28,\n",
       " 0.16,\n",
       " 0.12,\n",
       " 0.16,\n",
       " 0.2,\n",
       " 0.12,\n",
       " 0.16,\n",
       " 0.12,\n",
       " 0.08,\n",
       " 0.2,\n",
       " 0.12,\n",
       " 0.12,\n",
       " 0.16,\n",
       " 0.16,\n",
       " 0.16,\n",
       " 0.16,\n",
       " 0.2,\n",
       " 0.2,\n",
       " 0.12,\n",
       " 0.12,\n",
       " 0.08,\n",
       " 0.04,\n",
       " 0.08,\n",
       " 0.08,\n",
       " 0.16,\n",
       " 0.04,\n",
       " 0.12,\n",
       " 0.08,\n",
       " 0.08,\n",
       " 0.2,\n",
       " 0.16,\n",
       " 0.16,\n",
       " 0.12,\n",
       " 0.08,\n",
       " 0.08,\n",
       " 0.12,\n",
       " 0.12,\n",
       " 0.16,\n",
       " 0.08,\n",
       " 0.12,\n",
       " 0.12,\n",
       " 0.12,\n",
       " 0.16,\n",
       " 0.2,\n",
       " 0.12,\n",
       " 0.16,\n",
       " 0.12,\n",
       " 0.08,\n",
       " 0.08,\n",
       " 0.16,\n",
       " 0.16,\n",
       " 0.16,\n",
       " 0.08,\n",
       " 0.12,\n",
       " 0.12,\n",
       " 0.12,\n",
       " 0.16,\n",
       " 0.12,\n",
       " 0.16,\n",
       " 0.16,\n",
       " 0.16,\n",
       " 0.16,\n",
       " 0.16,\n",
       " 0.16,\n",
       " 0.16,\n",
       " 0.12,\n",
       " 0.08,\n",
       " 0.16,\n",
       " 0.12,\n",
       " 0.16,\n",
       " 0.12,\n",
       " 0.12,\n",
       " 0.16,\n",
       " 0.12,\n",
       " 0.12,\n",
       " 0.04,\n",
       " 0.12,\n",
       " 0.12,\n",
       " 0.12,\n",
       " 0.16,\n",
       " 0.12,\n",
       " 0.16,\n",
       " 0.16,\n",
       " 0.16,\n",
       " 0.2,\n",
       " 0.12,\n",
       " 0.08,\n",
       " 0.12,\n",
       " 0.12,\n",
       " 0.12,\n",
       " 0.16,\n",
       " 0.08,\n",
       " 0.16,\n",
       " 0.12,\n",
       " 0.08,\n",
       " 0.12,\n",
       " 0.16,\n",
       " 0.12,\n",
       " 0.12,\n",
       " 0.16,\n",
       " 0.16,\n",
       " 0.16,\n",
       " 0.12,\n",
       " 0.16,\n",
       " 0.04,\n",
       " 0.12,\n",
       " 0.08,\n",
       " 0.16,\n",
       " 0.12,\n",
       " 0.08,\n",
       " 0.16,\n",
       " 0.16,\n",
       " 0.12,\n",
       " 0.16,\n",
       " 0.16,\n",
       " 0.16,\n",
       " 0.12,\n",
       " 0.12,\n",
       " 0.16,\n",
       " 0.2,\n",
       " 0.16,\n",
       " 0.16,\n",
       " 0.16,\n",
       " 0.16,\n",
       " 0.16,\n",
       " 0.16,\n",
       " 0.12,\n",
       " 0.16,\n",
       " 0.12,\n",
       " 0.12,\n",
       " 0.16,\n",
       " 0.16,\n",
       " 0.2,\n",
       " 0.16,\n",
       " 0.12,\n",
       " 0.16,\n",
       " 0.08,\n",
       " 0.12,\n",
       " 0.12,\n",
       " 0.08,\n",
       " 0.2,\n",
       " 0.12,\n",
       " 0.12,\n",
       " 0.16,\n",
       " 0.08,\n",
       " 0.12,\n",
       " 0.16,\n",
       " 0.12,\n",
       " 0.16,\n",
       " 0.12,\n",
       " 0.16,\n",
       " 0.16,\n",
       " 0.16,\n",
       " 0.16,\n",
       " 0.16,\n",
       " 0.2,\n",
       " 0.16,\n",
       " 0.16,\n",
       " 0.16,\n",
       " 0.16,\n",
       " 0.16,\n",
       " 0.16,\n",
       " 0.12,\n",
       " 0.16,\n",
       " 0.16,\n",
       " 0.12,\n",
       " 0.12,\n",
       " 0.12,\n",
       " 0.12,\n",
       " 0.16,\n",
       " 0.16,\n",
       " 0.12,\n",
       " 0.2,\n",
       " 0.12,\n",
       " 0.16,\n",
       " 0.16,\n",
       " 0.16,\n",
       " 0.16,\n",
       " 0.16,\n",
       " 0.16,\n",
       " 0.12,\n",
       " 0.12,\n",
       " 0.16,\n",
       " 0.16,\n",
       " 0.16,\n",
       " 0.16,\n",
       " 0.12,\n",
       " 0.16,\n",
       " 0.16,\n",
       " 0.16,\n",
       " 0.16,\n",
       " 0.16,\n",
       " 0.16,\n",
       " 0.16,\n",
       " 0.12,\n",
       " 0.16,\n",
       " 0.12,\n",
       " 0.16,\n",
       " 0.12,\n",
       " 0.12,\n",
       " 0.12,\n",
       " 0.16,\n",
       " 0.12,\n",
       " 0.12,\n",
       " 0.08,\n",
       " 0.16,\n",
       " 0.16,\n",
       " 0.12,\n",
       " 0.16,\n",
       " 0.16,\n",
       " 0.16,\n",
       " 0.16,\n",
       " 0.16,\n",
       " 0.12,\n",
       " 0.16,\n",
       " 0.12,\n",
       " 0.16,\n",
       " 0.16,\n",
       " 0.16,\n",
       " 0.12,\n",
       " 0.16,\n",
       " 0.12,\n",
       " 0.12,\n",
       " 0.12,\n",
       " 0.12,\n",
       " 0.16,\n",
       " 0.16,\n",
       " 0.16,\n",
       " 0.2,\n",
       " 0.12,\n",
       " 0.16,\n",
       " 0.16,\n",
       " 0.16,\n",
       " 0.16,\n",
       " 0.16,\n",
       " 0.12,\n",
       " 0.16,\n",
       " 0.08,\n",
       " 0.16,\n",
       " 0.12,\n",
       " 0.12,\n",
       " 0.16,\n",
       " 0.16,\n",
       " 0.16,\n",
       " 0.12,\n",
       " 0.12,\n",
       " 0.12,\n",
       " 0.16,\n",
       " 0.16,\n",
       " 0.16,\n",
       " 0.12,\n",
       " 0.16,\n",
       " 0.16,\n",
       " 0.16,\n",
       " 0.16,\n",
       " 0.12,\n",
       " 0.16,\n",
       " 0.12,\n",
       " 0.16,\n",
       " 0.16,\n",
       " 0.12,\n",
       " 0.16,\n",
       " 0.16,\n",
       " 0.16,\n",
       " 0.16,\n",
       " 0.12,\n",
       " 0.12,\n",
       " 0.16,\n",
       " 0.12,\n",
       " 0.16,\n",
       " 0.12,\n",
       " 0.16,\n",
       " 0.08,\n",
       " 0.16,\n",
       " 0.12,\n",
       " 0.16,\n",
       " 0.16,\n",
       " 0.12,\n",
       " 0.16,\n",
       " 0.16,\n",
       " 0.16,\n",
       " 0.16,\n",
       " 0.12,\n",
       " 0.16,\n",
       " 0.12,\n",
       " 0.12,\n",
       " 0.16,\n",
       " 0.08,\n",
       " 0.08,\n",
       " 0.16,\n",
       " 0.16]"
      ]
     },
     "execution_count": 58,
     "metadata": {},
     "output_type": "execute_result"
    }
   ],
   "source": [
    "error_rate"
   ]
  },
  {
   "cell_type": "code",
   "execution_count": 59,
   "metadata": {},
   "outputs": [
    {
     "data": {
      "text/plain": [
       "[<matplotlib.lines.Line2D at 0x2a40ad5bf08>]"
      ]
     },
     "execution_count": 59,
     "metadata": {},
     "output_type": "execute_result"
    },
    {
     "data": {
      "image/png": "[encoded data removed]",
      "text/plain": [
       "<Figure size 576x396 with 1 Axes>"
      ]
     },
     "metadata": {},
     "output_type": "display_data"
    }
   ],
   "source": [
    "plt.plot(range(1,initial_estimators),error_rate)"
   ]
  },
  {
   "cell_type": "code",
   "execution_count": 61,
   "metadata": {},
   "outputs": [],
   "source": [
    "new_error_rate=np.array(error_rate)"
   ]
  },
  {
   "cell_type": "code",
   "execution_count": 64,
   "metadata": {},
   "outputs": [
    {
     "name": "stdout",
     "output_type": "stream",
     "text": [
      "number of estimetor:  29\n"
     ]
    }
   ],
   "source": [
    "print(\"number of estimetor: \",new_error_rate.argmin())"
   ]
  },
  {
   "cell_type": "code",
   "execution_count": 66,
   "metadata": {},
   "outputs": [
    {
     "name": "stdout",
     "output_type": "stream",
     "text": [
      "minumum error:  4.0 %\n"
     ]
    }
   ],
   "source": [
    "print(\"minumum error: \",new_error_rate[new_error_rate.argmin()]*100,\"%\")"
   ]
  },
  {
   "cell_type": "code",
   "execution_count": null,
   "metadata": {},
   "outputs": [],
   "source": []
  }
 ],
 "metadata": {
  "kernelspec": {
   "display_name": "Python 3",
   "language": "python",
   "name": "python3"
  },
  "language_info": {
   "codemirror_mode": {
    "name": "ipython",
    "version": 3
   },
   "file_extension": ".py",
   "mimetype": "text/x-python",
   "name": "python",
   "nbconvert_exporter": "python",
   "pygments_lexer": "ipython3",
   "version": "3.7.7"
  },
  "varInspector": {
   "cols": {
    "lenName": 16,
    "lenType": 16,
    "lenVar": 40
   },
   "kernels_config": {
    "python": {
     "delete_cmd_postfix": "",
     "delete_cmd_prefix": "del ",
     "library": "var_list.py",
     "varRefreshCmd": "print(var_dic_list())"
    },
    "r": {
     "delete_cmd_postfix": ") ",
     "delete_cmd_prefix": "rm(",
     "library": "var_list.r",
     "varRefreshCmd": "cat(var_dic_list()) "
    }
   },
   "types_to_exclude": [
    "module",
    "function",
    "builtin_function_or_method",
    "instance",
    "_Feature"
   ],
   "window_display": false
  }
 },
 "nbformat": 4,
 "nbformat_minor": 4
}
